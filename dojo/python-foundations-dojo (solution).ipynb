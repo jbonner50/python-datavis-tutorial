{
 "cells": [
  {
   "cell_type": "markdown",
   "metadata": {},
   "source": [
    "# Python Foundations DOJO\n",
    "In this part of the DOJO, we will learn the basics Python data structures and how they work. Knowing the foundations will help in more advanced topics such as data analyis."
   ]
  },
  {
   "cell_type": "markdown",
   "metadata": {},
   "source": [
    "### Exercise 1\n",
    "Given two lists, create a third list by combining odd-index elements from the first list and even index elements from the second.<br>\n",
    "<br>\n",
    "**For Example:**<br>\n",
    "listOne = [3, 6, 9, 12, 15, 18, 21]<br>\n",
    "listTwo = [4, 8, 12, 16, 20, 24, 28]<br>\n",
    "<br>\n",
    "**Expected Output:** <br>\n",
    "Element at odd-index positions from list one<br>\n",
    "[6, 12, 18]<br>\n",
    "Element at odd-index positions from list two<br>\n",
    "[4, 12, 20, 28]<br>\n",
    "Printing Final third list<br>\n",
    "[6, 12, 18, 4, 12, 20, 28]"
   ]
  },
  {
   "cell_type": "code",
   "execution_count": 1,
   "metadata": {},
   "outputs": [
    {
     "name": "stdout",
     "output_type": "stream",
     "text": [
      "Element at odd-index positions from list one\n",
      "[6, 12, 18]\n",
      "Element at odd-index positions from list two\n",
      "[4, 12, 20, 28]\n",
      "Printing Final third list\n",
      "[6, 12, 18, 4, 12, 20, 28]\n"
     ]
    }
   ],
   "source": [
    "listOne = [3, 6, 9, 12, 15, 18, 21]\n",
    "listTwo = [4, 8, 12, 16, 20, 24, 28]\n",
    "listThree = list()\n",
    "\n",
    "oddElements = listOne[1::2]\n",
    "print(\"Element at odd-index positions from list one\")\n",
    "print(oddElements)\n",
    "\n",
    "evenElements = listTwo[0::2]\n",
    "print(\"Element at odd-index positions from list two\")\n",
    "print(evenElements)\n",
    "\n",
    "print(\"Printing Final third list\")\n",
    "listThree.extend(oddElements)\n",
    "listThree.extend(evenElements)\n",
    "print(listThree)"
   ]
  },
  {
   "cell_type": "markdown",
   "metadata": {},
   "source": [
    "### Exercise 2\n",
    "Given an input list, remove the element at index 4 and add it to the 2nd position and at the end of the list.<br>\n",
    "<br>\n",
    "**For Example:**<br>\n",
    "sampleList = [34, 54, 67, 89, 11, 43, 94]<br>\n",
    "<br>\n",
    "**Expected Output:** <br>\n",
    "Original list:  [34, 54, 67, 89, 11, 43, 94]<br>\n",
    "List after removing element at index 4:  [34, 54, 67, 89, 43, 94]<br>\n",
    "List after adding element at index 2:  [34, 54, 11, 67, 89, 43, 94]<br>\n",
    "List after adding element at last index:  [34, 54, 11, 67, 89, 43, 94, 11]<br>"
   ]
  },
  {
   "cell_type": "code",
   "execution_count": 4,
   "metadata": {},
   "outputs": [
    {
     "name": "stdout",
     "output_type": "stream",
     "text": [
      "Original list  [34, 54, 67, 89, 11, 43, 94]\n",
      "List after removing element at index 4  [34, 54, 67, 89, 43, 94]\n",
      "List after adding element at index 2  [34, 54, 11, 67, 89, 43, 94]\n",
      "List after adding element at last  [34, 54, 11, 67, 89, 43, 94, 11]\n"
     ]
    }
   ],
   "source": [
    "sampleList = [34, 54, 67, 89, 11, 43, 94]\n",
    "print(\"Original list: \", sampleList)\n",
    "element = sampleList.pop(4)\n",
    "print(\"List after removing element at index 4: \", sampleList)\n",
    "sampleList.insert(2, element)\n",
    "print(\"List after adding element at index 2: \", sampleList)\n",
    "sampleList.append(element)\n",
    "print(\"List after adding element at last index:\", sampleList)"
   ]
  },
  {
   "cell_type": "markdown",
   "metadata": {},
   "source": [
    "### Exercise 3\n",
    "Given a list, slice it into 3 equal chunks and reverse each list.<br>\n",
    "<br>\n",
    "**For Example:**<br>\n",
    "sampleList = [11, 45, 8, 23, 14, 12, 78, 45, 89]<br>\n",
    "<br>\n",
    "**Expected Output:** <br>\n",
    "Original list:  [11, 45, 8, 23, 14, 12, 78, 45, 89]<br>\n",
    "Chunk 1:  [11, 45, 8]<br>\n",
    "Chunk 1 reversed:  [8, 45, 11]<br>\n",
    "Chunk 2:  [23, 14, 12]<br>\n",
    "Chunk 2 reversed:  [12, 14, 23]<br>\n",
    "Chunk 3: [78, 45, 89]<br>\n",
    "Chunk 3 reversed:  [89, 45, 78]<br>"
   ]
  },
  {
   "cell_type": "code",
   "execution_count": 1,
   "metadata": {},
   "outputs": [
    {
     "name": "stdout",
     "output_type": "stream",
     "text": [
      "Original list: [11, 45, 8, 23, 14, 12, 78, 45, 89]\n",
      "Chunk 1: [11, 45, 8]\n",
      "Chunk 1 reversed: [8, 45, 11]\n",
      "Chunk 2: [23, 14, 12]\n",
      "Chunk 2 reversed: [12, 14, 23]\n",
      "Chunk 3: [78, 45, 89]\n",
      "Chunk 3 reversed: [89, 45, 78]\n"
     ]
    }
   ],
   "source": [
    "sampleList = [11, 45, 8, 23, 14, 12, 78, 45, 89]\n",
    "print(\"Original list:\", sampleList)\n",
    "length = len(sampleList)\n",
    "chunkSize  = int(length / 3)\n",
    "start = 0\n",
    "end = chunkSize\n",
    "for i in range(1, 4):\n",
    " listChunk = sampleList[start:end]\n",
    " print(\"Chunk {}: {}\".format(i , listChunk))\n",
    " print(\"Chunk {} reversed: {}\".format(i, list(reversed(listChunk))))\n",
    " start = end\n",
    " if(i != 2):\n",
    "   end += chunkSize\n",
    " else:\n",
    "   end += length - chunkSize"
   ]
  },
  {
   "cell_type": "markdown",
   "metadata": {},
   "source": [
    "### Exercise 4\n",
    "Given a list, iterate over it and count the occurrence of each element. Then create a dictionary to show the count of each element.<br>\n",
    "<br>\n",
    "**For Example:**<br>\n",
    "sampleList = [11, 45, 8, 11, 23, 45, 23, 45, 89]<br>\n",
    "<br>\n",
    "**Expected Output:** <br>\n",
    "Printing count of each item in a dictionary: {11: 2, 45: 3, 8: 1, 23: 2, 89: 1}<br>"
   ]
  },
  {
   "cell_type": "code",
   "execution_count": 13,
   "metadata": {},
   "outputs": [
    {
     "name": "stdout",
     "output_type": "stream",
     "text": [
      "Original list [11, 45, 8, 11, 23, 45, 23, 45, 89]\n",
      "Printing count of each item {11: 2, 45: 3, 8: 1, 23: 2, 89: 1}\n"
     ]
    }
   ],
   "source": [
    "sampleList = [11, 45, 8, 11, 23, 45, 23, 45, 89]\n",
    "print(\"Original list\", sampleList)\n",
    "countDict = dict()\n",
    "for item in sampleList:\n",
    "  if(item in countDict):\n",
    "    countDict[item] += 1\n",
    "  else:\n",
    "    countDict[item] = 1\n",
    "  \n",
    "print(\"Printing count of each item\", countDict)"
   ]
  },
  {
   "cell_type": "markdown",
   "metadata": {},
   "source": [
    "### Exercise 5\n",
    "Given a list, iterate and check if a given element already exists as a key in dictionary. If it doesn't exist, delete it from the list.<br>\n",
    "<br>\n",
    "**For Example:**<br>\n",
    "testScores = [47, 64, 69, 37, 76, 83, 95, 97]<br>\n",
    "testResults = {'John':47, 'Emma':69, 'Kelly':76, 'Jason':97}<br>\n",
    "<br>\n",
    "**Expected Output:** <br>\n",
    "After removing unwanted elements from list: [47, 69, 76, 97]"
   ]
  },
  {
   "cell_type": "code",
   "execution_count": 17,
   "metadata": {},
   "outputs": [
    {
     "name": "stdout",
     "output_type": "stream",
     "text": [
      "Test Scores: [47, 64, 69, 37, 76, 83, 95, 97]\n",
      "Test Results: {'John': 47, 'Emma': 69, 'Kelly': 76, 'Jason': 97}\n",
      "After removing unwanted elements from list: [47, 69, 76, 97]\n"
     ]
    }
   ],
   "source": [
    "testScores  = [47, 64, 69, 37, 76, 83, 95, 97]\n",
    "testResults  = {'John':47, 'Emma':69, 'Kelly':76, 'Jason':97} \n",
    "print(\"Test Scores:\", testScores)\n",
    "print(\"Test Results:\", testResults)\n",
    "testScores[:] = [score for score in testScores if score in testResults.values()]\n",
    "print(\"After removing unwanted elements from list:\", testScores)"
   ]
  }
 ],
 "metadata": {
  "kernelspec": {
   "display_name": "Python 3",
   "language": "python",
   "name": "python3"
  },
  "language_info": {
   "codemirror_mode": {
    "name": "ipython",
    "version": 3
   },
   "file_extension": ".py",
   "mimetype": "text/x-python",
   "name": "python",
   "nbconvert_exporter": "python",
   "pygments_lexer": "ipython3",
   "version": "3.7.3"
  }
 },
 "nbformat": 4,
 "nbformat_minor": 2
}
