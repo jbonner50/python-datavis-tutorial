{
 "cells": [
  {
   "cell_type": "markdown",
   "metadata": {},
   "source": [
    "# Python Foundations DOJO\n",
    "In this part of the DOJO, we will learn the basics Python data structures and how they work. Knowing the foundations will help in more advanced topics such as data analyis."
   ]
  },
  {
   "cell_type": "markdown",
   "metadata": {},
   "source": [
    "### Exercise 1\n",
    "Given two lists, create a third list by combining odd-index elements from the first list and even index elements from the second.<br>\n",
    "<br>\n",
    "**For Example:**<br>\n",
    "listOne = [3, 6, 9, 12, 15, 18, 21]<br>\n",
    "listTwo = [4, 8, 12, 16, 20, 24, 28]<br>\n",
    "<br>\n",
    "**Expected Output:** <br>\n",
    "Element at odd-index positions from list one<br>\n",
    "[6, 12, 18]<br>\n",
    "Element at even-index positions from list two<br>\n",
    "[4, 12, 20, 28]<br>\n",
    "Printing Final third list<br>\n",
    "[6, 12, 18, 4, 12, 20, 28]"
   ]
  },
  {
   "cell_type": "code",
   "execution_count": 1,
   "metadata": {},
   "outputs": [],
   "source": [
    "listOne = [3, 6, 9, 12, 15, 18, 21]\n",
    "listTwo = [4, 8, 12, 16, 20, 24, 28]\n",
    "# Exercise 1 code here"
   ]
  },
  {
   "cell_type": "markdown",
   "metadata": {},
   "source": [
    "### Exercise 2\n",
    "Given an input list, remove the element at index 4 and add it to the 2nd position and at the end of the list.<br>\n",
    "<br>\n",
    "**For Example:**<br>\n",
    "sampleList = [34, 54, 67, 89, 11, 43, 94]<br>\n",
    "<br>\n",
    "**Expected Output:** <br>\n",
    "Original list:  [34, 54, 67, 89, 11, 43, 94]<br>\n",
    "List after removing element at index 4:  [34, 54, 67, 89, 43, 94]<br>\n",
    "List after adding element at index 2:  [34, 54, 11, 67, 89, 43, 94]<br>\n",
    "List after adding element at last index:  [34, 54, 11, 67, 89, 43, 94, 11]<br>"
   ]
  },
  {
   "cell_type": "code",
   "execution_count": 2,
   "metadata": {},
   "outputs": [],
   "source": [
    "sampleList = [34, 54, 67, 89, 11, 43, 94]\n",
    "# Exercise 2 code here"
   ]
  },
  {
   "cell_type": "markdown",
   "metadata": {},
   "source": [
    "### Exercise 3\n",
    "Given a list, slice it into 3 equal chunks and reverse each list.<br>\n",
    "<br>\n",
    "**For Example:**<br>\n",
    "sampleList = [11, 45, 8, 23, 14, 12, 78, 45, 89]<br>\n",
    "<br>\n",
    "**Expected Output:** <br>\n",
    "Original list:  [11, 45, 8, 23, 14, 12, 78, 45, 89]<br>\n",
    "Chunk 1:  [11, 45, 8]<br>\n",
    "Chunk 1 reversed:  [8, 45, 11]<br>\n",
    "Chunk 2:  [23, 14, 12]<br>\n",
    "Chunk 2 reversed:  [12, 14, 23]<br>\n",
    "Chunk 3: [78, 45, 89]<br>\n",
    "Chunk 3 reversed:  [89, 45, 78]<br>"
   ]
  },
  {
   "cell_type": "code",
   "execution_count": 2,
   "metadata": {},
   "outputs": [],
   "source": [
    "sampleList = [11, 45, 8, 23, 14, 12, 78, 45, 89]\n",
    "# Exercise 3 code here"
   ]
  },
  {
   "cell_type": "markdown",
   "metadata": {},
   "source": [
    "### Exercise 4\n",
    "Given a list, iterate over it and count the occurrence of each element. Then create a dictionary to show the count of each element.<br>\n",
    "<br>\n",
    "**For Example:**<br>\n",
    "sampleList = [11, 45, 8, 11, 23, 45, 23, 45, 89]<br>\n",
    "<br>\n",
    "**Expected Output:** <br>\n",
    "Printing count of each item in a dictionary: {11: 2, 45: 3, 8: 1, 23: 2, 89: 1}<br>"
   ]
  },
  {
   "cell_type": "code",
   "execution_count": 5,
   "metadata": {},
   "outputs": [],
   "source": [
    "sampleList = [11, 45, 8, 11, 23, 45, 23, 45, 89]\n",
    "# Exercise 4 code here"
   ]
  },
  {
   "cell_type": "markdown",
   "metadata": {},
   "source": [
    "### Exercise 5\n",
    "Given a list, iterate and check if a given element already exists as a key in dictionary. If it doesn't exist, delete it from the list.<br>\n",
    "<br>\n",
    "**For Example:**<br>\n",
    "testScores = [47, 64, 69, 37, 76, 83, 95, 97]<br>\n",
    "testResults = {'John':47, 'Emma':69, 'Kelly':76, 'Jason':97}<br>\n",
    "<br>\n",
    "**Expected Output:** <br>\n",
    "After removing unwanted elements from list: [47, 69, 76, 97]"
   ]
  },
  {
   "cell_type": "code",
   "execution_count": 4,
   "metadata": {},
   "outputs": [],
   "source": [
    "testScores = [47, 64, 69, 37, 76, 83, 95, 97]\n",
    "testResults = {'John':47, 'Emma':69, 'Kelly':76, 'Jason':97}\n",
    "# Exercise 5 code here"
   ]
  }
 ],
 "metadata": {
  "kernelspec": {
   "display_name": "Python 3",
   "language": "python",
   "name": "python3"
  },
  "language_info": {
   "codemirror_mode": {
    "name": "ipython",
    "version": 3
   },
   "file_extension": ".py",
   "mimetype": "text/x-python",
   "name": "python",
   "nbconvert_exporter": "python",
   "pygments_lexer": "ipython3",
   "version": "3.7.3"
  }
 },
 "nbformat": 4,
 "nbformat_minor": 2
}
