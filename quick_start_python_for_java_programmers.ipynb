{
 "cells": [
  {
   "cell_type": "markdown",
   "metadata": {},
   "source": [
    "# Python Dojo Quick Start Guide\n",
    "Welcome to the Aviation Dev Chapter Python Dojo!\n",
    "\n",
    "**How to use this guide:**\n",
    "Scroll through to follow along, and run each code block as we cover each topic. Feel free to modify the code blocks to test different scenarios and inputs."
   ]
  },
  {
   "cell_type": "markdown",
   "metadata": {},
   "source": [
    "## 1. Jupyter Notebook\n",
    "A Jupyter Notebook is a great place to write code and quickly view the results. Jupyter Notebooks are constructed of 2 basic cells:"
   ]
  },
  {
   "cell_type": "markdown",
   "metadata": {},
   "source": [
    "### 1.1. Text Cells\n",
    "Text cells can be edited by double-clicking on them. After you edit a text cell, click \"run cell\" to confirm any changes. (Please try not to delete the instructions.)"
   ]
  },
  {
   "cell_type": "markdown",
   "metadata": {},
   "source": [
    "### 1.2. Code Cells\n",
    "Other cells contain code in the Python3 language. Running a code cell will execute the code it contains.\n",
    "\n",
    "To run a code cell, first click on the cell to activate it. Once it's highlighted, either press  ▶| or use `Shift + Enter`.\n",
    "\n",
    "Try running this cell."
   ]
  },
  {
   "cell_type": "code",
   "execution_count": 1,
   "metadata": {},
   "outputs": [
    {
     "name": "stdout",
     "output_type": "stream",
     "text": [
      "Hello, world!\n"
     ]
    }
   ],
   "source": [
    "print(\"Hello, world!\")"
   ]
  },
  {
   "cell_type": "markdown",
   "metadata": {},
   "source": [
    "And this one:"
   ]
  },
  {
   "cell_type": "code",
   "execution_count": 4,
   "metadata": {},
   "outputs": [
    {
     "name": "stdout",
     "output_type": "stream",
     "text": [
      "👋, 🌏!\n"
     ]
    }
   ],
   "source": [
    "print(\"\\N{WAVING HAND SIGN}, \\N{EARTH GLOBE ASIA-AUSTRALIA}!\")"
   ]
  },
  {
   "cell_type": "markdown",
   "metadata": {},
   "source": [
    "# 2. Python"
   ]
  },
  {
   "cell_type": "markdown",
   "metadata": {},
   "source": [
    "## 2.0. A few things to know:\n",
    "* Python uses **indenting** rather than braces to indicate that a statement is inside a method/loop/what-have-you\n",
    "* Semicolons are **not** required at the end of statements\n",
    "* Unlike Java, Python is **dynamically typed**, so you don’t have to declare what something is--you just use it (unless it is a global variable--then you need to declare it)"
   ]
  },
  {
   "cell_type": "markdown",
   "metadata": {},
   "source": [
    "**Comments**"
   ]
  },
  {
   "cell_type": "code",
   "execution_count": null,
   "metadata": {},
   "outputs": [],
   "source": [
    "# Starts a Python comment to the end of the line, as // starts one in Java.\n",
    "\n",
    "'''\n",
    "Starts a multi-line Comment, as /* ... */ starts one in Java\n",
    "'''"
   ]
  },
  {
   "cell_type": "markdown",
   "metadata": {},
   "source": [
    "## 2.1. Data Types\n",
    "Here are some basic data types in Python. They should look pretty familiar!"
   ]
  },
  {
   "cell_type": "code",
   "execution_count": 5,
   "metadata": {},
   "outputs": [
    {
     "name": "stdout",
     "output_type": "stream",
     "text": [
      "I'm\n",
      "here!\n"
     ]
    }
   ],
   "source": [
    "23 #int\n",
    "23.0  #float (Java double)\n",
    "False #The boolean type is called bool, and unlike in Java, literals are capitalized in Python\n",
    "\"Hello\" # string\n",
    "'H'  #ALSO a string. There is no separate character type. \n",
    "two_lines = '''I'm\n",
    "here!'''\n",
    "print(two_lines)"
   ]
  },
  {
   "cell_type": "markdown",
   "metadata": {},
   "source": [
    "Either quote form \" or ' may be used to enclose string literals, as long as they are properly paired.  Python also has the special form with triple quotes that allows for multiline strings with embedded \" and '."
   ]
  },
  {
   "cell_type": "markdown",
   "metadata": {},
   "source": [
    "While data is typed, variable names have no fixed type. Thus, the following sequence is legal in Python."
   ]
  },
  {
   "cell_type": "code",
   "execution_count": 6,
   "metadata": {},
   "outputs": [
    {
     "name": "stdout",
     "output_type": "stream",
     "text": [
      "1\n",
      "hello\n"
     ]
    }
   ],
   "source": [
    "x = 1\n",
    "print(x)\n",
    "\n",
    "x = \"hello\"\n",
    "print(x)"
   ]
  },
  {
   "cell_type": "markdown",
   "metadata": {},
   "source": [
    "**Additional details to note about Python:**\n",
    "* There are no type declaratons\n",
    "* All data in Python are objects\n",
    "* All assignments implicitly involve pointers, but there is no notation for pointers (y=x makes y an alias for x)\n",
    "* With mutable objects you get into the same problems with aliases as in Java\n",
    "* In Python, numbers and strings are immutable, so they have no problems with aliases"
   ]
  },
  {
   "cell_type": "markdown",
   "metadata": {},
   "source": [
    "## 2.1.1. String Manipulation & Formatting\n",
    "\n",
    "#### String Concatenation \n",
    "String concatenation uses `+` as in Java, but Python does not implicitly convert to the string type.  It must be explicit:\n",
    "\n",
    "**Java:**\n",
    "\n",
    "    int x = 3  \n",
    "    String s = \"The answer is \" +  x;  \n",
    "    \n",
    "**Python:**"
   ]
  },
  {
   "cell_type": "code",
   "execution_count": 8,
   "metadata": {
    "scrolled": true
   },
   "outputs": [
    {
     "name": "stdout",
     "output_type": "stream",
     "text": [
      "The answer is 3\n"
     ]
    }
   ],
   "source": [
    "x = 3\n",
    "s = \"The answer is \" + str(x)\n",
    "print(s)"
   ]
  },
  {
   "cell_type": "markdown",
   "metadata": {},
   "source": [
    "#### String Formatting\n",
    "In both cases `format` ends up as \"Format with 3 and Hello embedded.\"  \n",
    "\n",
    "**Java:**\n",
    "\n",
    "    int x = 3;  \n",
    "    String s = \"Hello\";  \n",
    "    String format = String.format(\"Format with %s and %s embedded.\", x, s);  \n",
    "\n",
    "**Python:**"
   ]
  },
  {
   "cell_type": "code",
   "execution_count": 9,
   "metadata": {},
   "outputs": [
    {
     "name": "stdout",
     "output_type": "stream",
     "text": [
      "Format with 3 and Hello embedded.\n"
     ]
    }
   ],
   "source": [
    "x = 3\n",
    "s = \"Hello\"\n",
    "format = \"Format with {} and {} embedded.\".format(x, s);\n",
    "print(format)"
   ]
  },
  {
   "cell_type": "markdown",
   "metadata": {},
   "source": [
    "#### Indexing and slices\n",
    "\n",
    "In Python, the notation wih the colon between square brackets is called a slice.\n",
    "\n",
    "**Java:**  \n",
    "\n",
    "    String s= \"Compute\";  \n",
    "    char c = s.charAt(2); // 'm'  \n",
    "    String sub1 = s.substring(1, 4);  // \"omp\"  \n",
    "    String sub2 = s.substring(3);  // \"pute\"  \n",
    "\n",
    "**Python:**"
   ]
  },
  {
   "cell_type": "code",
   "execution_count": null,
   "metadata": {},
   "outputs": [],
   "source": [
    "s = \"Compute\"\n",
    "c = s[0]   # \"C\"\n",
    "sub1 = s[1:4] # \"omp\"\n",
    "sub2 = s[4:] # \"ute\"\n",
    "print(c + sub1 + sub2)"
   ]
  },
  {
   "cell_type": "markdown",
   "metadata": {},
   "source": [
    "## 2.2. Statement Syntax\n",
    "\n",
    "Line breaks determine the ends of statements in Python. Semicolons are used only if you want multiple statements on a single line.\n",
    "\n",
    "While blocks in Java are enclosed in braces {...}, blocks in Python always come after a heading ending in a colon, and must be consistently indented underneath.  \n",
    "\n",
    "For instance, function definitions have a heading and body:\n",
    "\n",
    "### 2.2.1 Functions\n",
    "\n",
    "**Java:**\n",
    "\n",
    "    /* java comments.... */  \n",
    "    public static int square(int x) {  \n",
    "        return x*x;  \n",
    "    }  \n",
    "\n",
    "**Python:**"
   ]
  },
  {
   "cell_type": "code",
   "execution_count": 10,
   "metadata": {},
   "outputs": [
    {
     "data": {
      "text/plain": [
       "36"
      ]
     },
     "execution_count": 10,
     "metadata": {},
     "output_type": "execute_result"
    }
   ],
   "source": [
    "def square(x):\n",
    "    \"\"\" Python function documentation \n",
    "    - string indented just inside heading\n",
    "    \"\"\"\n",
    "    return x*x\n",
    "square(6)"
   ]
  },
  {
   "cell_type": "markdown",
   "metadata": {},
   "source": [
    "Note: since Python is not staticly typed, there is no declared return type (though documentation comments are helpful). **Python functions always return something.**  Python has a special object `None` that is used much like `null` in Java.  If no data is specified in a return statement, or there is no return statement (like in a Java void function), Python returns `None`."
   ]
  },
  {
   "cell_type": "markdown",
   "metadata": {},
   "source": [
    "## 2.3. Conditionals\n",
    "\n",
    "**Java:**\n",
    "    \n",
    "    int x = 15;\n",
    "    \n",
    "    if (x > 8) {  \n",
    "        x -= 2;  \n",
    "        System.out.println(x);  \n",
    "    }  \n",
    "    //Next statement\n",
    "\n",
    "**Python:**"
   ]
  },
  {
   "cell_type": "code",
   "execution_count": 11,
   "metadata": {},
   "outputs": [
    {
     "name": "stdout",
     "output_type": "stream",
     "text": [
      "13\n"
     ]
    }
   ],
   "source": [
    "x = 15\n",
    "if x > 8:\n",
    "    x -= 2\n",
    "    print(x)"
   ]
  },
  {
   "cell_type": "markdown",
   "metadata": {},
   "source": [
    "Parentheses are not needed around a condition, but there must be a colon before the indented block.  **The indentation that is good practice in Java is REQUIRED in Python.**\n",
    "\n",
    "Note:`elif` is used like `else if` in Java.  "
   ]
  },
  {
   "cell_type": "code",
   "execution_count": 12,
   "metadata": {},
   "outputs": [
    {
     "name": "stdout",
     "output_type": "stream",
     "text": [
      "negative\n"
     ]
    }
   ],
   "source": [
    "x = -1\n",
    "if x > 0:\n",
    "   print('positive')\n",
    "elif x < 0:\n",
    "   print('negative')\n",
    "else:\n",
    "   print('zero')"
   ]
  },
  {
   "cell_type": "markdown",
   "metadata": {},
   "source": [
    "### 2.3.1 Boolean operators\n",
    "\n",
    "The comparison operator for numbers are the same as Java.  Instead of `.equals(...)` in Java,\n",
    "Python uses `==`. \n",
    "\n",
    "Python also uses `is` to mean \"is the exact same object at the same address\".\n",
    "\n",
    "\n",
    "*ex. **if** thisAlias **is** thatAlias:*\n",
    "\n",
    "Java's boolean operators **&&, ||, !** are replaced in Python by the words: **and, or, not**. "
   ]
  },
  {
   "cell_type": "markdown",
   "metadata": {},
   "source": [
    "## 2.4. Loops\n",
    "Loops in Python are very similar to loops in Java. \n",
    "### 2.4.1. While Loops\n",
    "\n",
    "The syntax for `while` is similar to `if`.\n",
    "\n",
    "**Java:**\n",
    "\n",
    "    int x = 11;  \n",
    "    while (x != 0) {  \n",
    "        System.out.println(x);  \n",
    "        x -= 1;  \n",
    "    }  \n",
    "\n",
    "**Python:**"
   ]
  },
  {
   "cell_type": "code",
   "execution_count": 13,
   "metadata": {
    "scrolled": true
   },
   "outputs": [
    {
     "name": "stdout",
     "output_type": "stream",
     "text": [
      "11\n",
      "10\n",
      "9\n",
      "8\n",
      "7\n",
      "6\n",
      "5\n",
      "4\n",
      "3\n",
      "2\n",
      "1\n"
     ]
    }
   ],
   "source": [
    "x = 11\n",
    "while not x == 0:\n",
    "    print(x)\n",
    "    x -= 1"
   ]
  },
  {
   "cell_type": "markdown",
   "metadata": {},
   "source": [
    "### 2.4.2 For Loops\n",
    "\n",
    "Suppose `words` is a list containing  elements like \"yes\", \"no\", \"maybe\".\n",
    "\n",
    "**Java:**  \n",
    "\n",
    "    for (String w: words) {   \n",
    "        w = w.toUppercase();  \n",
    "        System.out.println(w);  \n",
    "    }  \n",
    "\n",
    "**Python:**"
   ]
  },
  {
   "cell_type": "code",
   "execution_count": 14,
   "metadata": {},
   "outputs": [
    {
     "name": "stdout",
     "output_type": "stream",
     "text": [
      "YES\n",
      "NO\n",
      "MAYBE\n"
     ]
    }
   ],
   "source": [
    "words = ['yes', 'no', 'maybe']\n",
    "for w in words:\n",
    "    w = w.upper()\n",
    "    print(w)"
   ]
  },
  {
   "cell_type": "markdown",
   "metadata": {},
   "source": [
    "**Java:**  \n",
    "\n",
    "    for (int i = 2; i < 9; i +=3) {  \n",
    "        System.out.println(i);  \n",
    "    }\n",
    "\n",
    "**Python:**"
   ]
  },
  {
   "cell_type": "code",
   "execution_count": 15,
   "metadata": {},
   "outputs": [
    {
     "name": "stdout",
     "output_type": "stream",
     "text": [
      "2\n",
      "5\n",
      "8\n"
     ]
    }
   ],
   "source": [
    "#If incrementing by 1, use range(2,9)\n",
    "for i in range(2, 9, 3):\n",
    "    print(i)"
   ]
  },
  {
   "cell_type": "markdown",
   "metadata": {},
   "source": [
    "The statements **continue** and **break** work as in Java.  Python has no **switch** statement or **do while**.\n"
   ]
  },
  {
   "cell_type": "markdown",
   "metadata": {},
   "source": [
    "## 2.5. Other Data Structures\n",
    "There are quite a few data structures available. The built-in data structures include: lists, tuples, dictionaries, strings, sets and frozensets. We'll examine a few of these in this guide.\n",
    "\n",
    "### 2.5.1. Lists\n",
    "Lists in Python correspond semantically something somewhere between a Java array and an ArrayList.  They can grow dynamically and they can reference elements like x\\[i\\].\n",
    "\n",
    "Literals and some basic operations can be stated much more neatly in Python:"
   ]
  },
  {
   "cell_type": "code",
   "execution_count": 16,
   "metadata": {},
   "outputs": [
    {
     "name": "stdout",
     "output_type": "stream",
     "text": [
      "z list contains 3\n"
     ]
    }
   ],
   "source": [
    "x = [1, 3, 5]  # a list\n",
    "y = [8, 5]\n",
    "z = x + y # concatenates:  [1, 3, 5, 8, 5]\n",
    "x.extend(y) # adds y list to x\n",
    "y.append(-3) # mutates y to [8, 5, -3], like ArrayList add method. Appending a list will create a sublist\n",
    "y.remove(8) # mutates y to [5, -3], removes first matching value.\n",
    "del y[1] # mutates y to [5] removes value at index\n",
    "y.insert(0, 3) # mutates y to [3, 5], inserts value of 3 at index 0\n",
    "if 3 in z: # check if value is within list\n",
    "  print('z list contains 3')"
   ]
  },
  {
   "cell_type": "markdown",
   "metadata": {},
   "source": [
    "####  List Slicing\n",
    "The starting index is inclusive, while the end index is exclusive.\n",
    "Syntax:\n",
    "\n",
    "`list_name[start_index : end_index : increment]`\n",
    "\n",
    "Leave out these values to use the defaults:\n",
    "\n",
    "If `:increment` is left out, the slice increments by an index of +1.\n",
    "\n",
    "If `end_index` is left out, the slice goes to the end of the list.\n",
    "\n",
    "If `start_index` is left out, the slice starts at the beginning of the list."
   ]
  },
  {
   "cell_type": "code",
   "execution_count": 17,
   "metadata": {},
   "outputs": [
    {
     "name": "stdout",
     "output_type": "stream",
     "text": [
      "[0, 1, 2, 3, 4, 5, 6, 7, 8, 9]\n",
      "[4, 5, 6]\n",
      "[1, 3, 5, 7]\n",
      "[9, 8, 7, 6, 5, 4, 3, 2, 1, 0]\n"
     ]
    }
   ],
   "source": [
    "#create a new array from 0-9\n",
    "x = list(range(10))\n",
    "print(x)\n",
    "\n",
    "#from 4th to 6th position, increment left out (default: +1)\n",
    "print(x[4:7])\n",
    "\n",
    "#return elements from 1st to 8th position with a step of two\n",
    "print(x[1:8:2])\n",
    "\n",
    "#reverse the array\n",
    "print(x[::-1])"
   ]
  },
  {
   "cell_type": "markdown",
   "metadata": {},
   "source": [
    "####  List Comprehension"
   ]
  },
  {
   "cell_type": "markdown",
   "metadata": {},
   "source": [
    "Just like in Java, this for-loop syntax works for anything with an iterator.  That includes lists, tuples, sets,  etc.\n",
    "Strings in Python also have an iterator that returns one character at a time. \n",
    "\n",
    "This iterator syntax is the only option in Python for statements.  Java has another for-loop format, commonly used to iterate through an arithmetic sequence."
   ]
  },
  {
   "cell_type": "code",
   "execution_count": 18,
   "metadata": {
    "scrolled": true
   },
   "outputs": [
    {
     "name": "stdout",
     "output_type": "stream",
     "text": [
      "['0', '1', '2', '3', '4', '5', '6', '7', '8', '9']\n",
      "[0.0, 1.0, 2.0, 3.0, 4.0, 5.0, 6.0, 7.0, 8.0, 9.0]\n"
     ]
    }
   ],
   "source": [
    "L = range(10)\n",
    "#Converting integers to string - this style of handling lists is known as list comprehension.\n",
    "#List comprehension offers a versatile way to handle list manipulations tasks easily.\n",
    "\n",
    "#Basic syntax: new_list = [expression  for_loop(s) conditions]\n",
    "\n",
    "print([str(c) for c in L]) # convert integers to strings\n",
    "print([float(c) for c in L]) # convert strings to floats"
   ]
  },
  {
   "cell_type": "code",
   "execution_count": 19,
   "metadata": {},
   "outputs": [
    {
     "name": "stdout",
     "output_type": "stream",
     "text": [
      "[1, 4, 9, 16]\n",
      "[1, 4, 9, 16]\n"
     ]
    }
   ],
   "source": [
    "numbers = [1, 2, 3, 4]\n",
    "#Find the squares of a number using the for loop:\n",
    "\n",
    "squares = []\n",
    "for n in numbers:\n",
    "  squares.append(n**2)\n",
    "print(squares)  # Output: [1, 4, 9, 16]\n",
    "\n",
    "\n",
    "\n",
    "#Same functionality but using list comprehension\n",
    "squares = [n**2 for n in numbers] # Wow! So much more efficient!\n",
    "print(squares)"
   ]
  },
  {
   "cell_type": "markdown",
   "metadata": {},
   "source": [
    "Square brackets signify that the output is a list. n\\*\\*2 is the expression executed for each element and for n in numbers is used to iterate over each element. In other words, execute n\\*\\*2 (expression) for each element in numbers."
   ]
  },
  {
   "cell_type": "markdown",
   "metadata": {},
   "source": [
    "Here is a more complex example of findinng common numbers from two lists:"
   ]
  },
  {
   "cell_type": "code",
   "execution_count": 20,
   "metadata": {},
   "outputs": [
    {
     "name": "stdout",
     "output_type": "stream",
     "text": [
      "[2, 3, 4]\n",
      "[2, 3, 4]\n"
     ]
    }
   ],
   "source": [
    "list_a = [1, 2, 3, 4]\n",
    "list_b = [2, 3, 4, 5]\n",
    "\n",
    "# Nested for loops:\n",
    "common_num = []\n",
    "for a in list_a:\n",
    "  for b in list_b:\n",
    "    if a == b:\n",
    "      common_num.append(a)\n",
    "\n",
    "print(common_num)\n",
    "\n",
    "\n",
    "#List Comprehension\n",
    "\n",
    "        #expr.        #nested for loops                   #condition\n",
    "common_num = [a       for a in list_a for b in list_b      if a == b]\n",
    "\n",
    "print(common_num) # Output: [2, 3, 4]"
   ]
  },
  {
   "cell_type": "markdown",
   "metadata": {},
   "source": [
    "### 2.5.2. Sets\n",
    "Python's built-in set type has the following characteristics:\n",
    "* Sets are unordered.\n",
    "* Set elements are unique. Duplicate elements are not allowed.\n",
    "* A set itself may be modified, but the elements contained in the set must be of an immutable type.\n",
    "* The elements in a set can be objects of different types\n",
    "\n",
    "A set can be created using the built in set() function:\n",
    "\n",
    "`x = set(<iter>)`\n",
    "\n",
    "The argument <iter> is an iterable like a list, string, or tuple.\n",
    "    \n",
    "Alternatively, a set can be defined with curly braces ({}):\n",
    "\n",
    "`x = {<obj>, <obj>, ..., <obj>}`\n",
    "\n",
    "Each <obj> becomes a distinct element of the set, even if it is an iterable.\n",
    "    \n",
    "Using sets to remove duplicates in a list:"
   ]
  },
  {
   "cell_type": "code",
   "execution_count": 21,
   "metadata": {},
   "outputs": [
    {
     "name": "stdout",
     "output_type": "stream",
     "text": [
      "['foo', 'bar', 'baz', 'foo', 'qux', 'foo', 'bar']\n",
      "{'qux', 'foo', 'baz', 'bar'}\n"
     ]
    }
   ],
   "source": [
    "x = ['foo', 'bar', 'baz', 'foo', 'qux', 'foo', 'bar']\n",
    "print(x)\n",
    "y = set(x) #sets only contain unique values\n",
    "print(y)"
   ]
  },
  {
   "cell_type": "markdown",
   "metadata": {},
   "source": [
    "### 2.5.2. Dictionaries (Java HashMap)\n",
    "\n",
    "**Java:**  \n",
    "\n",
    "    Map<String, String> map = new HashMap<String, String>();  \n",
    "    map.put(\"Jose\", \"773-000-1234\");  \n",
    "    map.put(\"Mary\", \"312-555-9999\");  \n",
    "    System.out.println(map.get('Jose'));  \n",
    "\n",
    "    for (String key : map.keySet()) {  \n",
    "         System.out.println(key);  \n",
    "         System.out.println(map.get(key));  \n",
    "    }  \n",
    "\n",
    "**Python:**"
   ]
  },
  {
   "cell_type": "code",
   "execution_count": 22,
   "metadata": {},
   "outputs": [
    {
     "name": "stdout",
     "output_type": "stream",
     "text": [
      "Jose: 773-000-1234\n",
      "Mary: 312-555-9999\n",
      "Katy: 312-555-9999\n"
     ]
    }
   ],
   "source": [
    "names = {} # untyped - does not require String and String\n",
    "names['Jose'] = '773-000-1234'\n",
    "names['Mary'] = '312-555-9999'\n",
    "names['Katy'] = '312-555-9999'\n",
    "'''\n",
    "# another way to create dictionary\n",
    "map = {\n",
    "   'Jose':'773-000-1234',\n",
    "   'Mary':'312-555-9999',\n",
    "   'Katy':'312-555-9999'\n",
    "}\n",
    "'''\n",
    "# iterate through a dictionary\n",
    "for key in names:\n",
    "   print(key + \": \" + names.get(key))"
   ]
  },
  {
   "cell_type": "markdown",
   "metadata": {},
   "source": [
    "As in Java, Python allows the get method to read a dictionary.  There is a difference from the access via square brackets:  If 'Andy' were not a key in map, trying to read:\n",
    "\n",
    "`map['Andy']`\n",
    "\n",
    "would cause an exception, while:\n",
    "\n",
    "`map.get('Andy')`\n",
    "\n",
    "would return `None`.\n",
    "\n",
    "Keys of a Dictionary must be **unique** and of immutable data type such as Strings and Integers, but the values can be **repeated** and be of any type."
   ]
  },
  {
   "cell_type": "markdown",
   "metadata": {},
   "source": [
    "## 2.6. Classes"
   ]
  },
  {
   "cell_type": "markdown",
   "metadata": {},
   "source": [
    "### Defining a Class\n",
    "\n",
    "**Java:**\n",
    "\n",
    "    public class Person {\n",
    "        private String name;\n",
    "        private int age;\n",
    "\n",
    "        public Person(String n, int a) {\n",
    "            this.name = n;\n",
    "            this.age = a;\n",
    "        }\n",
    "\n",
    "        public String toString() {\n",
    "            return this.name + \" : \" + this.age;\n",
    "        }\n",
    "\n",
    "        public void setAge(int newAge) {\n",
    "            this.age = newAge;\n",
    "        }\n",
    "\n",
    "        public static void main(String[] args) {\n",
    "            Person p = new Person(\"Dale\", 50);\n",
    "            System.out.println(p.toString());\n",
    "            Person q = new Person(\"Arnie\", 17);\n",
    "            q.setAge(18);\n",
    "            System.out.println(q.toString());\n",
    "        }\n",
    "    }\n",
    "   \n",
    "**Python:**"
   ]
  },
  {
   "cell_type": "code",
   "execution_count": 23,
   "metadata": {},
   "outputs": [
    {
     "name": "stdout",
     "output_type": "stream",
     "text": [
      "Dale : 50\n",
      "Arnie : 18\n"
     ]
    }
   ],
   "source": [
    "class Person(object):\n",
    "    def __init__(self, n, a):\n",
    "        self.name = n\n",
    "        self.age = a\n",
    "    def toString(self):\n",
    "        return self.name + ' : ' + str(self.age);\n",
    "    def setAge(self, newAge):\n",
    "        self.age = newAge\n",
    "\n",
    "if __name__ == '__main__':\n",
    "    p = Person('Dale', 50)\n",
    "    print(p.toString())\n",
    "    q = Person('Arnie',17)\n",
    "    q.setAge(18)\n",
    "    print(q.toString())"
   ]
  },
  {
   "cell_type": "markdown",
   "metadata": {},
   "source": [
    "# 3. Python Data Analysis Tutorial\n",
    "\n",
    "Python is not only a great general purpose language, but it also has an abundance of available libraries which makes Python remarkably useful for working with data functionalities. \n",
    "\n",
    "Now that we've gone through the basics of the Python language, let's delve into using Python for data analysis by exploring a few popular libraries: pandas, numpy, and matplotlib.\n"
   ]
  },
  {
   "cell_type": "markdown",
   "metadata": {},
   "source": [
    "### 3.0. Initial setup:\n",
    "\n",
    "Ensure all modules are installed (pip or pip3):\n",
    "\n",
    "`pip install matplotlib`\n",
    "\n",
    "`pip install pandas`\n",
    "\n",
    "`pip install numpy`"
   ]
  },
  {
   "cell_type": "code",
   "execution_count": 24,
   "metadata": {},
   "outputs": [
    {
     "name": "stdout",
     "output_type": "stream",
     "text": [
      "                competitorname  chocolate  fruity  caramel  peanutyalmondy  \\\n",
      "0                    100 Grand          1       0        1               0   \n",
      "1                 3 Musketeers          1       0        0               0   \n",
      "2                     One dime          0       0        0               0   \n",
      "3                  One quarter          0       0        0               0   \n",
      "4                    Air Heads          0       1        0               0   \n",
      "5                   Almond Joy          1       0        0               1   \n",
      "6                    Baby Ruth          1       0        1               1   \n",
      "7           Boston Baked Beans          0       0        0               1   \n",
      "8                   Candy Corn          0       0        0               0   \n",
      "9           Caramel Apple Pops          0       1        1               0   \n",
      "10             Charleston Chew          1       0        0               0   \n",
      "11  Chewey Lemonhead Fruit Mix          0       1        0               0   \n",
      "12                    Chiclets          0       1        0               0   \n",
      "13                        Dots          0       1        0               0   \n",
      "14                    Dum Dums          0       1        0               0   \n",
      "15                 Fruit Chews          0       1        0               0   \n",
      "16                     Fun Dip          0       1        0               0   \n",
      "17                  Gobstopper          0       1        0               0   \n",
      "18           Haribo Gold Bears          0       1        0               0   \n",
      "19           Haribo Happy Cola          0       0        0               0   \n",
      "20           Haribo Sour Bears          0       1        0               0   \n",
      "21          Haribo Twin Snakes          0       1        0               0   \n",
      "22            HersheyÕs Kisses          1       0        0               0   \n",
      "23           HersheyÕs Krackel          1       0        0               0   \n",
      "24    HersheyÕs Milk Chocolate          1       0        0               0   \n",
      "25      HersheyÕs Special Dark          1       0        0               0   \n",
      "26                  Jawbusters          0       1        0               0   \n",
      "27                Junior Mints          1       0        0               0   \n",
      "28                     Kit Kat          1       0        0               0   \n",
      "29                 Laffy Taffy          0       1        0               0   \n",
      "..                         ...        ...     ...      ...             ...   \n",
      "55                    Ring pop          0       1        0               0   \n",
      "56                        Rolo          1       0        1               0   \n",
      "57           Root Beer Barrels          0       0        0               0   \n",
      "58                       Runts          0       1        0               0   \n",
      "59                     Sixlets          1       0        0               0   \n",
      "60           Skittles original          0       1        0               0   \n",
      "61          Skittles wildberry          0       1        0               0   \n",
      "62             Nestle Smarties          1       0        0               0   \n",
      "63              Smarties candy          0       1        0               0   \n",
      "64                    Snickers          1       0        1               1   \n",
      "65            Snickers Crisper          1       0        1               1   \n",
      "66             Sour Patch Kids          0       1        0               0   \n",
      "67       Sour Patch Tricksters          0       1        0               0   \n",
      "68                   Starburst          0       1        0               0   \n",
      "69         Strawberry bon bons          0       1        0               0   \n",
      "70                Sugar Babies          0       0        1               0   \n",
      "71                 Sugar Daddy          0       0        1               0   \n",
      "72                Super Bubble          0       1        0               0   \n",
      "73                Swedish Fish          0       1        0               0   \n",
      "74                 Tootsie Pop          1       1        0               0   \n",
      "75        Tootsie Roll Juniors          1       0        0               0   \n",
      "76        Tootsie Roll Midgies          1       0        0               0   \n",
      "77     Tootsie Roll Snack Bars          1       0        0               0   \n",
      "78           Trolli Sour Bites          0       1        0               0   \n",
      "79                        Twix          1       0        1               0   \n",
      "80                   Twizzlers          0       1        0               0   \n",
      "81                    Warheads          0       1        0               0   \n",
      "82        WelchÕs Fruit Snacks          0       1        0               0   \n",
      "83  WertherÕs Original Caramel          0       0        1               0   \n",
      "84                    Whoppers          1       0        0               0   \n",
      "\n",
      "    nougat  crispedricewafer  hard  bar  pluribus  sugarpercent  pricepercent  \\\n",
      "0        0                 1     0    1         0         0.732         0.860   \n",
      "1        1                 0     0    1         0         0.604         0.511   \n",
      "2        0                 0     0    0         0         0.011         0.116   \n",
      "3        0                 0     0    0         0         0.011         0.511   \n",
      "4        0                 0     0    0         0         0.906         0.511   \n",
      "5        0                 0     0    1         0         0.465         0.767   \n",
      "6        1                 0     0    1         0         0.604         0.767   \n",
      "7        0                 0     0    0         1         0.313         0.511   \n",
      "8        0                 0     0    0         1         0.906         0.325   \n",
      "9        0                 0     0    0         0         0.604         0.325   \n",
      "10       1                 0     0    1         0         0.604         0.511   \n",
      "11       0                 0     0    0         1         0.732         0.511   \n",
      "12       0                 0     0    0         1         0.046         0.325   \n",
      "13       0                 0     0    0         1         0.732         0.511   \n",
      "14       0                 0     1    0         0         0.732         0.034   \n",
      "15       0                 0     0    0         1         0.127         0.034   \n",
      "16       0                 0     1    0         0         0.732         0.325   \n",
      "17       0                 0     1    0         1         0.906         0.453   \n",
      "18       0                 0     0    0         1         0.465         0.465   \n",
      "19       0                 0     0    0         1         0.465         0.465   \n",
      "20       0                 0     0    0         1         0.465         0.465   \n",
      "21       0                 0     0    0         1         0.465         0.465   \n",
      "22       0                 0     0    0         1         0.127         0.093   \n",
      "23       0                 1     0    1         0         0.430         0.918   \n",
      "24       0                 0     0    1         0         0.430         0.918   \n",
      "25       0                 0     0    1         0         0.430         0.918   \n",
      "26       0                 0     1    0         1         0.093         0.511   \n",
      "27       0                 0     0    0         1         0.197         0.511   \n",
      "28       0                 1     0    1         0         0.313         0.511   \n",
      "29       0                 0     0    0         0         0.220         0.116   \n",
      "..     ...               ...   ...  ...       ...           ...           ...   \n",
      "55       0                 0     1    0         0         0.732         0.965   \n",
      "56       0                 0     0    0         1         0.860         0.860   \n",
      "57       0                 0     1    0         1         0.732         0.069   \n",
      "58       0                 0     1    0         1         0.872         0.279   \n",
      "59       0                 0     0    0         1         0.220         0.081   \n",
      "60       0                 0     0    0         1         0.941         0.220   \n",
      "61       0                 0     0    0         1         0.941         0.220   \n",
      "62       0                 0     0    0         1         0.267         0.976   \n",
      "63       0                 0     1    0         1         0.267         0.116   \n",
      "64       1                 0     0    1         0         0.546         0.651   \n",
      "65       0                 1     0    1         0         0.604         0.651   \n",
      "66       0                 0     0    0         1         0.069         0.116   \n",
      "67       0                 0     0    0         1         0.069         0.116   \n",
      "68       0                 0     0    0         1         0.151         0.220   \n",
      "69       0                 0     1    0         1         0.569         0.058   \n",
      "70       0                 0     0    0         1         0.965         0.767   \n",
      "71       0                 0     0    0         0         0.418         0.325   \n",
      "72       0                 0     0    0         0         0.162         0.116   \n",
      "73       0                 0     0    0         1         0.604         0.755   \n",
      "74       0                 0     1    0         0         0.604         0.325   \n",
      "75       0                 0     0    0         0         0.313         0.511   \n",
      "76       0                 0     0    0         1         0.174         0.011   \n",
      "77       0                 0     0    1         0         0.465         0.325   \n",
      "78       0                 0     0    0         1         0.313         0.255   \n",
      "79       0                 1     0    1         0         0.546         0.906   \n",
      "80       0                 0     0    0         0         0.220         0.116   \n",
      "81       0                 0     1    0         0         0.093         0.116   \n",
      "82       0                 0     0    0         1         0.313         0.313   \n",
      "83       0                 0     1    0         0         0.186         0.267   \n",
      "84       0                 1     0    0         1         0.872         0.848   \n",
      "\n",
      "    winpercent  \n",
      "0    66.971725  \n",
      "1    67.602936  \n",
      "2    32.261086  \n",
      "3    46.116505  \n",
      "4    52.341465  \n",
      "5    50.347546  \n",
      "6    56.914547  \n",
      "7    23.417824  \n",
      "8    38.010963  \n",
      "9    34.517681  \n",
      "10   38.975037  \n",
      "11   36.017628  \n",
      "12   24.524988  \n",
      "13   42.272076  \n",
      "14   39.460556  \n",
      "15   43.088924  \n",
      "16   39.185505  \n",
      "17   46.783348  \n",
      "18   57.119740  \n",
      "19   34.158958  \n",
      "20   51.412430  \n",
      "21   42.178772  \n",
      "22   55.375454  \n",
      "23   62.284481  \n",
      "24   56.490501  \n",
      "25   59.236122  \n",
      "26   28.127439  \n",
      "27   57.219250  \n",
      "28   76.768600  \n",
      "29   41.389557  \n",
      "..         ...  \n",
      "55   35.290756  \n",
      "56   65.716286  \n",
      "57   29.703691  \n",
      "58   42.849144  \n",
      "59   34.722000  \n",
      "60   63.085140  \n",
      "61   55.103695  \n",
      "62   37.887188  \n",
      "63   45.995827  \n",
      "64   76.673782  \n",
      "65   59.529251  \n",
      "66   59.863998  \n",
      "67   52.825947  \n",
      "68   67.037628  \n",
      "69   34.578991  \n",
      "70   33.437550  \n",
      "71   32.230995  \n",
      "72   27.303865  \n",
      "73   54.861111  \n",
      "74   48.982651  \n",
      "75   43.068897  \n",
      "76   45.736748  \n",
      "77   49.653503  \n",
      "78   47.173229  \n",
      "79   81.642914  \n",
      "80   45.466282  \n",
      "81   39.011898  \n",
      "82   44.375519  \n",
      "83   41.904308  \n",
      "84   49.524113  \n",
      "\n",
      "[85 rows x 13 columns]\n"
     ]
    }
   ],
   "source": [
    "import matplotlib.pyplot as plt\n",
    "import pandas as pd\n",
    "import numpy as np\n",
    "import os.path\n",
    "\n",
    "# These are Jupyter magic commands that are developed specific to the kernel (Py3 in this case)\n",
    "%matplotlib inline\n",
    "path = %pwd\n",
    "\n",
    "candy_data = pd.read_csv(os.path.join(path,\"data\", \"candy-data.csv\"))\n",
    "\n",
    "print(candy_data)"
   ]
  },
  {
   "cell_type": "markdown",
   "metadata": {},
   "source": [
    "### About the dataset:\n",
    "Source: [The Ultimate Halloween Candy Power Ranking - FiveThirtyEight](https://fivethirtyeight.com/features/the-ultimate-halloween-candy-power-ranking/)\n",
    "\n",
    "**How often did a fun-sized candy of a given type win its matchups against the rest of the field?**\n",
    "\n",
    "Method: Pit dozens of fun-sized candy varieties against one another.\n",
    "Key terms:\n",
    "\n",
    "* `winpercent`: how often the candy would win a matchup\n",
    "\n",
    "* `sugarpercent`: relative sugar content ranking (higher = more sugar)\n",
    "\n",
    "* `pricepercent`: relative price (higher = higher price)\n",
    "\n",
    "* `chocolate, fruity, carmel ...`: 1 = True, 0 = False ingredient/classification\n"
   ]
  },
  {
   "cell_type": "markdown",
   "metadata": {},
   "source": [
    "## 3.1. Formatting, Cleaning and Filtering DataFrames\n",
    "\n",
    "DataFrames in Pandas are 2-dimensional tables consisting of three principal components: rows, columns, and data--essentially, an in-memory representation of an excel sheet.\n",
    "Pandas provides various functionality to analyze, change, and extract information from a given dataset."
   ]
  },
  {
   "cell_type": "markdown",
   "metadata": {},
   "source": [
    "First, let's try some basic actions to manipulate the DataFrame:"
   ]
  },
  {
   "cell_type": "code",
   "execution_count": 25,
   "metadata": {},
   "outputs": [
    {
     "name": "stdout",
     "output_type": "stream",
     "text": [
      "Index(['competitorname', 'chocolate', 'fruity', 'caramel', 'peanutyalmondy',\n",
      "       'nougat', 'crispedricewafer', 'hard', 'bar', 'pluribus', 'sugarpercent',\n",
      "       'pricepercent', 'winpercent'],\n",
      "      dtype='object')\n"
     ]
    },
    {
     "data": {
      "text/html": [
       "<div>\n",
       "<style scoped>\n",
       "    .dataframe tbody tr th:only-of-type {\n",
       "        vertical-align: middle;\n",
       "    }\n",
       "\n",
       "    .dataframe tbody tr th {\n",
       "        vertical-align: top;\n",
       "    }\n",
       "\n",
       "    .dataframe thead th {\n",
       "        text-align: right;\n",
       "    }\n",
       "</style>\n",
       "<table border=\"1\" class=\"dataframe\">\n",
       "  <thead>\n",
       "    <tr style=\"text-align: right;\">\n",
       "      <th></th>\n",
       "      <th>competitorname</th>\n",
       "      <th>chocolate</th>\n",
       "      <th>fruity</th>\n",
       "      <th>caramel</th>\n",
       "      <th>peanutyalmondy</th>\n",
       "      <th>nougat</th>\n",
       "      <th>crispedricewafer</th>\n",
       "      <th>hard</th>\n",
       "      <th>bar</th>\n",
       "      <th>pluribus</th>\n",
       "      <th>sugarpercent</th>\n",
       "      <th>pricepercent</th>\n",
       "      <th>winpercent</th>\n",
       "    </tr>\n",
       "  </thead>\n",
       "  <tbody>\n",
       "    <tr>\n",
       "      <th>0</th>\n",
       "      <td>100 Grand</td>\n",
       "      <td>1</td>\n",
       "      <td>0</td>\n",
       "      <td>1</td>\n",
       "      <td>0</td>\n",
       "      <td>0</td>\n",
       "      <td>1</td>\n",
       "      <td>0</td>\n",
       "      <td>1</td>\n",
       "      <td>0</td>\n",
       "      <td>0.732</td>\n",
       "      <td>0.860</td>\n",
       "      <td>66.971725</td>\n",
       "    </tr>\n",
       "    <tr>\n",
       "      <th>1</th>\n",
       "      <td>3 Musketeers</td>\n",
       "      <td>1</td>\n",
       "      <td>0</td>\n",
       "      <td>0</td>\n",
       "      <td>0</td>\n",
       "      <td>1</td>\n",
       "      <td>0</td>\n",
       "      <td>0</td>\n",
       "      <td>1</td>\n",
       "      <td>0</td>\n",
       "      <td>0.604</td>\n",
       "      <td>0.511</td>\n",
       "      <td>67.602936</td>\n",
       "    </tr>\n",
       "    <tr>\n",
       "      <th>2</th>\n",
       "      <td>One dime</td>\n",
       "      <td>0</td>\n",
       "      <td>0</td>\n",
       "      <td>0</td>\n",
       "      <td>0</td>\n",
       "      <td>0</td>\n",
       "      <td>0</td>\n",
       "      <td>0</td>\n",
       "      <td>0</td>\n",
       "      <td>0</td>\n",
       "      <td>0.011</td>\n",
       "      <td>0.116</td>\n",
       "      <td>32.261086</td>\n",
       "    </tr>\n",
       "    <tr>\n",
       "      <th>3</th>\n",
       "      <td>One quarter</td>\n",
       "      <td>0</td>\n",
       "      <td>0</td>\n",
       "      <td>0</td>\n",
       "      <td>0</td>\n",
       "      <td>0</td>\n",
       "      <td>0</td>\n",
       "      <td>0</td>\n",
       "      <td>0</td>\n",
       "      <td>0</td>\n",
       "      <td>0.011</td>\n",
       "      <td>0.511</td>\n",
       "      <td>46.116505</td>\n",
       "    </tr>\n",
       "    <tr>\n",
       "      <th>4</th>\n",
       "      <td>Air Heads</td>\n",
       "      <td>0</td>\n",
       "      <td>1</td>\n",
       "      <td>0</td>\n",
       "      <td>0</td>\n",
       "      <td>0</td>\n",
       "      <td>0</td>\n",
       "      <td>0</td>\n",
       "      <td>0</td>\n",
       "      <td>0</td>\n",
       "      <td>0.906</td>\n",
       "      <td>0.511</td>\n",
       "      <td>52.341465</td>\n",
       "    </tr>\n",
       "  </tbody>\n",
       "</table>\n",
       "</div>"
      ],
      "text/plain": [
       "  competitorname  chocolate  fruity  caramel  peanutyalmondy  nougat  \\\n",
       "0      100 Grand          1       0        1               0       0   \n",
       "1   3 Musketeers          1       0        0               0       1   \n",
       "2       One dime          0       0        0               0       0   \n",
       "3    One quarter          0       0        0               0       0   \n",
       "4      Air Heads          0       1        0               0       0   \n",
       "\n",
       "   crispedricewafer  hard  bar  pluribus  sugarpercent  pricepercent  \\\n",
       "0                 1     0    1         0         0.732         0.860   \n",
       "1                 0     0    1         0         0.604         0.511   \n",
       "2                 0     0    0         0         0.011         0.116   \n",
       "3                 0     0    0         0         0.011         0.511   \n",
       "4                 0     0    0         0         0.906         0.511   \n",
       "\n",
       "   winpercent  \n",
       "0   66.971725  \n",
       "1   67.602936  \n",
       "2   32.261086  \n",
       "3   46.116505  \n",
       "4   52.341465  "
      ]
     },
     "execution_count": 25,
     "metadata": {},
     "output_type": "execute_result"
    }
   ],
   "source": [
    "print (candy_data.columns) # Show column headings\n",
    "candy_data.head(5) # View the first 5 rows"
   ]
  },
  {
   "cell_type": "markdown",
   "metadata": {},
   "source": [
    "Find and print the average sugar percentage:"
   ]
  },
  {
   "cell_type": "code",
   "execution_count": 26,
   "metadata": {},
   "outputs": [
    {
     "name": "stdout",
     "output_type": "stream",
     "text": [
      "Average sugar percentage: 47.86%\n"
     ]
    }
   ],
   "source": [
    "sugar_avg = candy_data.sugarpercent.mean()\n",
    "print(\"Average sugar percentage: \"+ str(round(sugar_avg,4)*100)+ \"%\")"
   ]
  },
  {
   "cell_type": "markdown",
   "metadata": {},
   "source": [
    "Find and print the top ten candies by win percentage:"
   ]
  },
  {
   "cell_type": "code",
   "execution_count": 27,
   "metadata": {},
   "outputs": [
    {
     "name": "stdout",
     "output_type": "stream",
     "text": [
      "                 competitorname  winpercent\n",
      "52    ReeseÕs Peanut Butter cup   84.180290\n",
      "51           ReeseÕs Miniatures   81.866257\n",
      "79                         Twix   81.642914\n",
      "28                      Kit Kat   76.768600\n",
      "64                     Snickers   76.673782\n",
      "53               ReeseÕs pieces   73.434990\n",
      "36                    Milky Way   73.099556\n",
      "54  ReeseÕs stuffed with pieces   72.887901\n",
      "32          Peanut butter M&MÕs   71.465050\n",
      "42          Nestle Butterfinger   70.735641\n"
     ]
    }
   ],
   "source": [
    "top_ten = candy_data.sort_values (by=['winpercent'], ascending = False).head(10)\n",
    "print (top_ten[[\"competitorname\",\"winpercent\"]])"
   ]
  },
  {
   "cell_type": "markdown",
   "metadata": {},
   "source": [
    "### Bins and Grouping\n",
    "Use the `groupby` function to categorize the results by each value and gather the mean of all the values. You can also sort the output."
   ]
  },
  {
   "cell_type": "code",
   "execution_count": 28,
   "metadata": {},
   "outputs": [
    {
     "data": {
      "text/plain": [
       "chocolate\n",
       "1    60.921529\n",
       "0    42.142257\n",
       "Name: winpercent, dtype: float64"
      ]
     },
     "execution_count": 28,
     "metadata": {},
     "output_type": "execute_result"
    }
   ],
   "source": [
    "candy_data.groupby('chocolate')['winpercent'].mean().sort_values(ascending=False)"
   ]
  },
  {
   "cell_type": "markdown",
   "metadata": {},
   "source": [
    "This next block shows you how you can group your data into bins and extract data based on each bin. We can see the amount of chocolate candies in each bin of winpercent values."
   ]
  },
  {
   "cell_type": "code",
   "execution_count": 29,
   "metadata": {},
   "outputs": [
    {
     "name": "stdout",
     "output_type": "stream",
     "text": [
      "WinPercentGroups\n",
      "0-20%       0\n",
      "21-40%      3\n",
      "41-60%     15\n",
      "61-80%     16\n",
      "81-100%     3\n",
      "Name: chocolate, dtype: int64\n"
     ]
    }
   ],
   "source": [
    "bins = [0, 20, 40, 60, 80, 100]\n",
    "labels = ['0-20%', '21-40%', '41-60%', '61-80%', '81-100%']\n",
    "\n",
    "# Add a new column to the DataFrame holding the Percent Bins\n",
    "candy_data['WinPercentGroups'] = pd.cut(candy_data['winpercent'], bins, labels=labels)\n",
    "\n",
    "avg_sugar_percent = candy_data.groupby('WinPercentGroups')['chocolate'].sum()\n",
    "print(avg_sugar_percent)"
   ]
  },
  {
   "cell_type": "markdown",
   "metadata": {},
   "source": [
    "## 3.2. Data Visualization with Matplotlib"
   ]
  },
  {
   "cell_type": "markdown",
   "metadata": {},
   "source": [
    "We can plot our top ten candies using a **horizontal bar chart**."
   ]
  },
  {
   "cell_type": "code",
   "execution_count": 30,
   "metadata": {
    "scrolled": true
   },
   "outputs": [
    {
     "data": {
      "text/plain": [
       "Text(0.5, 1.0, 'Top 10 Candies by Win Percent')"
      ]
     },
     "execution_count": 30,
     "metadata": {},
     "output_type": "execute_result"
    },
    {
     "data": {
      "image/png": "[encoded data removed]",
      "text/plain": [
       "<Figure size 432x288 with 1 Axes>"
      ]
     },
     "metadata": {
      "needs_background": "light"
     },
     "output_type": "display_data"
    }
   ],
   "source": [
    "plt.barh(top_ten.competitorname, top_ten.winpercent)\n",
    "plt.xlabel(\"Win Percent\")\n",
    "plt.title(\"Top 10 Candies by Win Percent\")\n"
   ]
  },
  {
   "cell_type": "markdown",
   "metadata": {},
   "source": [
    "To figure out what makes some candies more desirable than others, let's use a scatterplot to see if there's any evident link between sugar content (sugarpercent), and perceived quality (winpercent)."
   ]
  },
  {
   "cell_type": "code",
   "execution_count": 31,
   "metadata": {},
   "outputs": [
    {
     "data": {
      "text/plain": [
       "Text(0, 0.5, 'Popularity Percentage')"
      ]
     },
     "execution_count": 31,
     "metadata": {},
     "output_type": "execute_result"
    },
    {
     "data": {
      "image/png": "[encoded data removed]",
      "text/plain": [
       "<Figure size 432x288 with 1 Axes>"
      ]
     },
     "metadata": {
      "needs_background": "light"
     },
     "output_type": "display_data"
    }
   ],
   "source": [
    "plt.scatter(\"sugarpercent\",\"winpercent\",data=candy_data)\n",
    "plt.title(\"Sugar Content vs Popularity\")\n",
    "plt.xlabel(\"Sugar Content Percentage\")\n",
    "plt.ylabel(\"Popularity Percentage\")"
   ]
  },
  {
   "cell_type": "markdown",
   "metadata": {},
   "source": [
    "Next, let's take a look what's *in* the candies that makes some better and some worse. Recall that our dataset broke the candy components into the following major categories:"
   ]
  },
  {
   "cell_type": "code",
   "execution_count": 32,
   "metadata": {
    "scrolled": true
   },
   "outputs": [
    {
     "data": {
      "text/plain": [
       "Index(['competitorname', 'chocolate', 'fruity', 'caramel', 'peanutyalmondy',\n",
       "       'nougat', 'crispedricewafer', 'hard', 'bar', 'pluribus', 'sugarpercent',\n",
       "       'pricepercent', 'winpercent', 'WinPercentGroups'],\n",
       "      dtype='object')"
      ]
     },
     "execution_count": 32,
     "metadata": {},
     "output_type": "execute_result"
    }
   ],
   "source": [
    "candy_data.columns"
   ]
  },
  {
   "cell_type": "markdown",
   "metadata": {},
   "source": [
    "Let's create a side-by-side boxplot comparing the win percentages of candies with chocolate vs those without chocolate."
   ]
  },
  {
   "cell_type": "code",
   "execution_count": 37,
   "metadata": {
    "scrolled": false
   },
   "outputs": [
    {
     "data": {
      "text/plain": [
       "Text(0.5, 1.0, 'Chocolate vs Win Percent')"
      ]
     },
     "execution_count": 37,
     "metadata": {},
     "output_type": "execute_result"
    },
    {
     "data": {
      "image/png": "[encoded data removed]",
      "text/plain": [
       "<Figure size 360x360 with 1 Axes>"
      ]
     },
     "metadata": {
      "needs_background": "light"
     },
     "output_type": "display_data"
    }
   ],
   "source": [
    "# Create a figure instance\n",
    "fig = plt.figure(1, (5, 5))\n",
    "\n",
    "# Create an axes instance\n",
    "ax = fig.add_subplot(111)\n",
    "\n",
    "with_chocolate = candy_data[candy_data.chocolate == 1]\n",
    "without_chocolate = candy_data[candy_data.chocolate == 0]\n",
    "\n",
    "data_to_plot=[with_chocolate['winpercent'], without_chocolate['winpercent']]\n",
    "\n",
    "# Create the boxplot\n",
    "bp = ax.boxplot(data_to_plot)\n",
    "\n",
    "# Add Labels\n",
    "ax.set_xticklabels(['Contains chocolate',\"Does not contain chocolate\"])\n",
    "plt.ylabel('Win percent')\n",
    "plt.title('Chocolate vs Win Percent')\n"
   ]
  },
  {
   "cell_type": "markdown",
   "metadata": {},
   "source": [
    "Based on these boxplots, we can see that at least 75% of the candies that contain chocolate have higher win percentages than the 75th percentile of candies without chocolate."
   ]
  },
  {
   "cell_type": "markdown",
   "metadata": {},
   "source": [
    "**Additional Plot Function Reference:**\n",
    "\n",
    "Basic plot types include `bar`,`barh`,`pie`,`scatter`,`kde` etc which can be found in the [official documentation](https://matplotlib.org/3.1.1/contents.html).\n"
   ]
  },
  {
   "cell_type": "markdown",
   "metadata": {},
   "source": [
    "## 3.3. Alternative Data Sources\n",
    "For this demo, we pulled the data from a CSV. Here are a few alternative ways to import data with Python.\n",
    "\n",
    "### 3.3.1. Pulling from XML\n",
    "\n",
    "You can parse an XML and feed it into a pandas DataFrame as shown below. \n",
    "\n",
    "**You will need to use `$pip install` bs4 and lxml.**"
   ]
  },
  {
   "cell_type": "code",
   "execution_count": 38,
   "metadata": {},
   "outputs": [],
   "source": [
    "from bs4 import BeautifulSoup\n",
    "import lxml"
   ]
  },
  {
   "cell_type": "markdown",
   "metadata": {},
   "source": [
    "Open the xml file and create an instance of BeautifulSoup."
   ]
  },
  {
   "cell_type": "code",
   "execution_count": 39,
   "metadata": {},
   "outputs": [],
   "source": [
    "f = open(os.path.join(path,\"data\", \"candy-data.xml\")) # fix path \n",
    "soup = BeautifulSoup(f, 'lxml')\n",
    "f.close()"
   ]
  },
  {
   "cell_type": "markdown",
   "metadata": {},
   "source": [
    "Create lists for each candy attribute."
   ]
  },
  {
   "cell_type": "code",
   "execution_count": null,
   "metadata": {},
   "outputs": [],
   "source": [
    "names = []\n",
    "chocolates = []\n",
    "fruitys = []\n",
    "caramels = []\n",
    "peanutyalmondys = []\n",
    "nougats = []\n",
    "crispedricewafers = []\n",
    "hards = []\n",
    "bars = []\n",
    "sugarpercents = []\n",
    "pricepercents = []\n",
    "winpercents = []"
   ]
  },
  {
   "cell_type": "markdown",
   "metadata": {},
   "source": [
    "Parse through to find all tags of 'row' and create a list of contents."
   ]
  },
  {
   "cell_type": "code",
   "execution_count": null,
   "metadata": {},
   "outputs": [],
   "source": [
    "candies = soup.find_all('row')"
   ]
  },
  {
   "cell_type": "markdown",
   "metadata": {},
   "source": [
    "Grab values and add them to the lists."
   ]
  },
  {
   "cell_type": "code",
   "execution_count": null,
   "metadata": {},
   "outputs": [],
   "source": [
    "for candy in candies:\n",
    "    names.append(candy.competitorname.text)\n",
    "    chocolates.append(int(candy.chocolate.text))\n",
    "    fruitys.append(int(candy.fruity.text))\n",
    "    caramels.append(int(candy.caramel.text))\n",
    "    peanutyalmondys.append(int(candy.peanutyalmondy.text))\n",
    "    nougats.append(int(candy.nougat.text))\n",
    "    crispedricewafers.append(int(candy.crispedricewafer.text))\n",
    "    hards.append(int(candy.hard.text))\n",
    "    bars.append(int(candy.bar.text))\n",
    "    sugarpercents.append(float(candy.sugarpercent.text))\n",
    "    pricepercents.append(float(candy.pricepercent.text))\n",
    "    winpercents.append(float(candy.winpercent.text))"
   ]
  },
  {
   "cell_type": "markdown",
   "metadata": {},
   "source": [
    "Create a DataFrame `candy_data` and assign column labels to match the variables from the dataset."
   ]
  },
  {
   "cell_type": "code",
   "execution_count": null,
   "metadata": {},
   "outputs": [],
   "source": [
    "candy_data = pd.DataFrame({\n",
    "    'name': names,\n",
    "    'chocolate': chocolates,\n",
    "    'fruity': fruitys,\n",
    "    'caramel': caramels,\n",
    "    'peanutyalmondy': peanutyalmondys,\n",
    "    'nougat': nougats,\n",
    "    'wafer': crispedricewafers,\n",
    "    'hard': hards,\n",
    "    'bar': bars,\n",
    "    'sugarpercent': sugarpercents,\n",
    "    'pricepercent': pricepercents,\n",
    "    'winpercent': winpercents  \n",
    "})\n",
    "\n",
    "print(candy_data)"
   ]
  },
  {
   "cell_type": "markdown",
   "metadata": {},
   "source": [
    "### 3.3.2 Pulling from JSON file (Alternative Data Source)\n",
    "\n",
    "You can also load JSON into a dectionary. From there, you can feed it into a pandas dataframe as shown below."
   ]
  },
  {
   "cell_type": "code",
   "execution_count": null,
   "metadata": {},
   "outputs": [],
   "source": [
    "import json\n",
    "with open(os.path.join(path,\"data\", \"candy-data.json\")) as f:\n",
    "    candy_dict = json.load(f)\n",
    "f.close()"
   ]
  },
  {
   "cell_type": "code",
   "execution_count": null,
   "metadata": {},
   "outputs": [],
   "source": [
    "df = pd.DataFrame.from_dict(candy_dict)\n",
    "print(df)"
   ]
  },
  {
   "cell_type": "markdown",
   "metadata": {},
   "source": [
    "# 4. Next Steps"
   ]
  },
  {
   "cell_type": "markdown",
   "metadata": {},
   "source": [
    "We have 2 mini challenges for you to put your new skills to the test. We recommend that you complete the **Python Foundations Dojo** before you attempt the **Data Analysis Dojo**. However, if you feel pretty comfortable with Python, try starting with the Data Analysis Dojo.\n",
    "\n",
    "Feel free to refer back to this guide, as well as use any online resources to help you solve the problems."
   ]
  }
 ],
 "metadata": {
  "kernelspec": {
   "display_name": "Python 3",
   "language": "python",
   "name": "python3"
  },
  "language_info": {
   "codemirror_mode": {
    "name": "ipython",
    "version": 3
   },
   "file_extension": ".py",
   "mimetype": "text/x-python",
   "name": "python",
   "nbconvert_exporter": "python",
   "pygments_lexer": "ipython3",
   "version": "3.7.3"
  }
 },
 "nbformat": 4,
 "nbformat_minor": 2
}
